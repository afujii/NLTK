{
  "nbformat": 4,
  "nbformat_minor": 0,
  "metadata": {
    "colab": {
      "name": "RDFLib百人一首.ipynb",
      "provenance": [],
      "collapsed_sections": [],
      "authorship_tag": "ABX9TyM7qv7RWh62VXfFpV1wYL2T",
      "include_colab_link": true
    },
    "kernelspec": {
      "name": "python3",
      "display_name": "Python 3"
    },
    "language_info": {
      "name": "python"
    }
  },
  "cells": [
    {
      "cell_type": "markdown",
      "metadata": {
        "id": "view-in-github",
        "colab_type": "text"
      },
      "source": [
        "<a href=\"https://colab.research.google.com/github/afujii/NLTK/blob/master/RDFLib%E7%99%BE%E4%BA%BA%E4%B8%80%E9%A6%96.ipynb\" target=\"_parent\"><img src=\"https://colab.research.google.com/assets/colab-badge.svg\" alt=\"Open In Colab\"/></a>"
      ]
    },
    {
      "cell_type": "markdown",
      "metadata": {
        "id": "NUbIjCL6V9KG"
      },
      "source": [
        "## RDFLibと百人一種\n",
        "はじめに、ドライブをマウントして、CSVファイルを読み込む。"
      ]
    },
    {
      "cell_type": "code",
      "metadata": {
        "colab": {
          "base_uri": "https://localhost:8080/"
        },
        "id": "CQOMPcpOoij4",
        "outputId": "e26207ef-6dcd-4621-e5a8-974ee32f5166"
      },
      "source": [
        "from google.colab import drive\n",
        "drive.mount('/content/drive')"
      ],
      "execution_count": 1,
      "outputs": [
        {
          "output_type": "stream",
          "name": "stdout",
          "text": [
            "Mounted at /content/drive\n"
          ]
        }
      ]
    },
    {
      "cell_type": "code",
      "metadata": {
        "id": "qSuQotItWS3s"
      },
      "source": [
        "with open('/content/drive/MyDrive/Colab Notebooks/hyakuninUTF8.txt',encoding='UTF8') as fp:\n",
        "  utas = fp.readlines()"
      ],
      "execution_count": 3,
      "outputs": []
    },
    {
      "cell_type": "markdown",
      "metadata": {
        "id": "iydE6nDvZGU3"
      },
      "source": [
        "ライブラリを用意しRDFLib のグラフを作成する。"
      ]
    },
    {
      "cell_type": "code",
      "metadata": {
        "colab": {
          "base_uri": "https://localhost:8080/"
        },
        "id": "cuur8qWCW4-C",
        "outputId": "ab0435b2-b769-4a2c-9e9a-dead72388ab4"
      },
      "source": [
        "!pip install rdflib"
      ],
      "execution_count": 5,
      "outputs": [
        {
          "output_type": "stream",
          "name": "stdout",
          "text": [
            "Collecting rdflib\n",
            "  Downloading rdflib-6.0.2-py3-none-any.whl (407 kB)\n",
            "\u001b[K     |████████████████████████████████| 407 kB 5.1 MB/s \n",
            "\u001b[?25hCollecting isodate\n",
            "  Downloading isodate-0.6.0-py2.py3-none-any.whl (45 kB)\n",
            "\u001b[K     |████████████████████████████████| 45 kB 3.3 MB/s \n",
            "\u001b[?25hRequirement already satisfied: setuptools in /usr/local/lib/python3.7/dist-packages (from rdflib) (57.4.0)\n",
            "Requirement already satisfied: pyparsing in /usr/local/lib/python3.7/dist-packages (from rdflib) (2.4.7)\n",
            "Requirement already satisfied: six in /usr/local/lib/python3.7/dist-packages (from isodate->rdflib) (1.15.0)\n",
            "Installing collected packages: isodate, rdflib\n",
            "Successfully installed isodate-0.6.0 rdflib-6.0.2\n"
          ]
        }
      ]
    },
    {
      "cell_type": "code",
      "metadata": {
        "id": "YJLXUSJ7W1Lt"
      },
      "source": [
        "from rdflib import Graph, Literal, URIRef, Namespace\n",
        "from rdflib.namespace import FOAF\n",
        "\n",
        "g = Graph()"
      ],
      "execution_count": 6,
      "outputs": []
    },
    {
      "cell_type": "markdown",
      "metadata": {
        "id": "fk6tBZxQXDKq"
      },
      "source": [
        "ライブラリを用意し、グラフにデータを読み込む。　<br>\n",
        "今回の例で使用した　s, p, o の関係は以下。　<br>\n",
        "|yomiteID -FOAF.name-> Literal() <br>\n",
        " yomiteID -utaid-> utaID <br>\n",
        " utaID -utaliteral-> Literal() <br>\n",
        " utaID -kami-> kamiID <br>\n",
        " utaID -simo-> simoID <br>\n",
        " kamiID -kanji-> Literal <br>\n",
        " simoID -kanji-> Literal <br>\n",
        " kamiID -kana-> Literal <br>\n",
        "simoID -kana-> Litral <br>"
      ]
    },
    {
      "cell_type": "code",
      "metadata": {
        "id": "IyCybvVXZN_a"
      },
      "source": [
        "head  = utas.pop(0)# utas は、No.1 からの全データ（list）になる。\n",
        "\n",
        "yomite = [ uta.split(',')[1] for uta in utas ] #読み手\n",
        "kamikanji = [ uta.split(',')[2] for uta in utas ] #上の句（漢字）\n",
        "simokanji = [ uta.split(',')[3] for uta in utas ] #下の句（漢字）\n",
        "kamikana = [ uta.split(',')[4] for uta in utas ] #上の句（かな）\n",
        "simokana = [ uta.split(',')[5] for uta in utas ] #下の句（かな）\n",
        "\n",
        "############################################\n",
        "ns = Namespace(\"http://hyakunin.com#\")\n",
        "yomiteIDs = [URIRef( \"ID\"+str(i).zfill(3))  for i in range(1,101)]\n",
        "utaIDs = [ URIRef(\"utaID\"+str(i).zfill(3))  for i in range(1,101)]\n",
        "kamiIDs = [ URIRef(\"kamiID\"+str(i).zfill(3))  for i in range(1,101)]\n",
        "simoIDs = [ URIRef(\"simoID\"+str(i).zfill(3))  for i in range(1,101)]\n",
        "\n",
        "for i in range(0,100):\n",
        "  g.add((yomiteIDs[i],FOAF.name,Literal(yomite[i])))\n",
        "  g.add((yomiteIDs[i],ns['utaid'],utaIDs[i]))\n",
        "  #####################\n",
        "  g.add((utaIDs[i],ns['utaliteral'],Literal(kamikanji[i]+simokanji[i])))\n",
        "  g.add((utaIDs[i],ns['kami'],kamiIDs[i]))\n",
        "  g.add((utaIDs[i],ns['simo'],simoIDs[i]))\n",
        "  #####################\n",
        "  g.add((kamiIDs[i],ns['kanji'],Literal(kamikanji[i])))\n",
        "  g.add((kamiIDs[i],ns['kana'],Literal(kamikana[i])))\n",
        "  g.add((simoIDs[i],ns['kanji'],Literal(simokanji[i])))\n",
        "  g.add((simoIDs[i],ns['kana'],Literal(simokana[i])))\n",
        "\n"
      ],
      "execution_count": 7,
      "outputs": []
    },
    {
      "cell_type": "code",
      "metadata": {
        "id": "RTGtUlmCZWVM"
      },
      "source": [
        "######### 以上で　g の準備ができた\n",
        "# 視覚化 百人一首全体では、大きいので「天智天皇」のみ\n",
        "\n",
        "newg = Graph()\n",
        "for s, p, o in g.triples((URIRef(\"ID001\"), None, None)):\n",
        "  newg.add((s,p,o))\n",
        "for s, p, o in g.triples((URIRef(\"utaID001\"),None,None)):\n",
        "  newg.add((s,p,o))\n",
        "############## 共通項の utaID001 は、自動的に共有される"
      ],
      "execution_count": 8,
      "outputs": []
    },
    {
      "cell_type": "code",
      "metadata": {
        "id": "-zlNUpbdZZdp"
      },
      "source": [
        "from rdflib.extras.external_graph_libs import rdflib_to_networkx_multidigraph\n",
        "import networkx as nx\n",
        "import matplotlib.pyplot as plt\n",
        "\n",
        "G = rdflib_to_networkx_multidigraph(newg)# 部分グラフ newg \n",
        "\n",
        "# Plot Networkx instance of RDF Graph\n",
        "pos = nx.spring_layout(G, scale=2)\n",
        "edge_labels = nx.get_edge_attributes(G, 'r')\n",
        "nx.draw_networkx_edge_labels(G, pos, edge_labels=edge_labels)\n",
        "nx.draw(G, with_labels=True)\n",
        "plt.show()\n"
      ],
      "execution_count": null,
      "outputs": []
    },
    {
      "cell_type": "code",
      "metadata": {
        "id": "s1rSc6aHZf1U"
      },
      "source": [
        "############ 別の視覚化ライブラリを試す\n",
        "import io\n",
        "import pydotplus\n",
        "from IPython.display import display, Image\n",
        "from rdflib.tools.rdf2dot import rdf2dot\n",
        "def visualize(g):\n",
        "    stream = io.StringIO()\n",
        "    rdf2dot(g, stream, opts = {display})\n",
        "    dg = pydotplus.graph_from_dot_data(stream.getvalue())\n",
        "    png = dg.create_png()\n",
        "    display(Image(png))\n",
        "\n",
        "visualize(newg)"
      ],
      "execution_count": null,
      "outputs": []
    },
    {
      "cell_type": "markdown",
      "metadata": {
        "id": "VR_kip4-ali6"
      },
      "source": [
        "## SPARQLクエリの適用\n",
        "作成したグラフに対して、クエリ言語を利用して検索する例を示していく。"
      ]
    },
    {
      "cell_type": "code",
      "metadata": {
        "colab": {
          "base_uri": "https://localhost:8080/"
        },
        "id": "61NenGEla09F",
        "outputId": "1ac1eb54-141e-4907-eefb-252ac35210e5"
      },
      "source": [
        "query =\"\"\"\n",
        "SELECT DISTINCT ?name  ?uta\n",
        "WHERE {\n",
        "    ?yid foaf:name ?name .\n",
        "    ?yid ns:utaid ?uid .\n",
        "    ?uid ns:utaliteral  ?uta .\n",
        "}\n",
        "\"\"\"\n",
        "qres = g.query(query,initNs={ \"ns\":ns , \"foaf\":FOAF})\n",
        "for row in qres:\n",
        "  print(f\"{ row.name}:{row.uta}\")"
      ],
      "execution_count": 12,
      "outputs": [
        {
          "output_type": "stream",
          "name": "stdout",
          "text": [
            "天智天皇:秋の田のかりほの庵の苫をあらみわが衣手は露にぬれつつ\n",
            "持統天皇:春過ぎて夏来にけらし白妙の衣干すてふ天の香具山\n",
            "柿本人麻呂:あしびきの山鳥の尾のしだり尾のながながし夜をひとりかも寝む\n",
            "山辺赤人:田子の浦にうち出でてみれば白妙の富士の高嶺に雪は降りつつ\n",
            "猿丸大夫:奥山に紅葉踏み分け鳴く鹿の声聞く時ぞ秋は悲しき\n",
            "中納言家持:かささぎの渡せる橋に置く霜の白きを見れば夜ぞ更けにける\n",
            "安倍仲麻呂:天の原ふりさけみれば春日なる三笠の山に出でし月かも\n",
            "喜撰法師:わが庵は都の辰巳しかぞ住む世をうぢ山と人はいふなり\n",
            "小野小町:花の色は移りにけりないたづらにわが身世にふるながめせしまに\n",
            "蝉丸:これやこの行くも帰るも別れては知るも知らぬも逢坂の関\n",
            "参議篁:わたの原八十島かけて漕ぎ出でぬと人にはつげよ海人の釣船\n",
            "僧正遍昭:天つ風雲の通ひ路吹きとぢよ乙女の姿しばしとどめむ\n",
            "陽成院:筑波嶺の峰より落つるみなの川恋ぞつもりて淵となりぬる\n",
            "河原左大臣:陸奥のしのぶもぢずりたれゆえに乱れそめにしわれならなくに\n",
            "光孝天皇:君がため春の野に出でて若菜摘むわが衣手に雪は降りつつ\n",
            "中納言行平:立ち別れいなばの山の峰に生ふるまつとし聞かば今帰り来む\n",
            "在原業平朝臣:ちはやぶる神代も聞かず竜田川から紅に水くくるとは\n",
            "藤原敏行朝臣:住の江の岸に寄る波よるさへや夢の通ひ路人目よくらむ\n",
            "伊勢:難波潟短き葦のふしの間も逢はでこの世を過ぐしてよとや\n",
            "元良親王:わびぬれば今はた同じ難波なる身をつくしても逢はむとぞ思ふ\n",
            "素性法師:今来むといひしばかりに長月の有明の月を待ち出でつるかな\n",
            "文屋康秀:吹くからに秋の草木のしをるればむべ山風を嵐といふらむ\n",
            "大江千里:月見れば千々にものこそ悲しけれわが身ひとつの秋にはあらねど\n",
            "菅家:このたびは幣もとりあへず手向山紅葉の錦神のまにまに\n",
            "三条右大臣:名にし負はば逢坂山のさねかずら人に知られでくるよしもがな\n",
            "貞信公:小倉山峰のもみぢ葉心あらば今ひとたびのみゆき待たなむ\n",
            "中納言兼輔:みかの原わきて流るる泉川いつ見きとてか恋しかるらむ\n",
            "源宗于朝臣:山里は冬ぞ寂しさまさりける人目も草もかれぬと思へば\n",
            "凡河内躬恒:心あてに折らばや折らむ初霜の置きまどはせる白菊の花\n",
            "壬生忠岑:有明のつれなく見えし別れより暁ばかり憂きものはなし\n",
            "坂上是則:朝ぼらけ有明の月と見るまでに吉野の里に降れる白雪\n",
            "春道列樹:山川に風のかけたるしがらみは流れもあへぬ紅葉なりけり\n",
            "紀友則:ひさかたの光のどけき春の日にしづ心なく花の散るらむ\n",
            "藤原興風:誰をかも知る人にせむ高砂の松も昔の友ならなくに\n",
            "紀貫之:人はいさ心も知らずふるさとは花ぞ昔の香に匂ひける\n",
            "清原深養父:夏の夜はまだ宵ながら明けぬるを雲のいずこに月宿るらむ\n",
            "文屋朝康:白露に風の吹きしく秋の野はつらぬきとめぬ玉ぞ散りける\n",
            "右近:忘らるる身をば思はず誓ひてし人の命の惜しくもあるかな\n",
            "参議等:浅茅生の小野の篠原忍ぶれどあまりてなどか人の恋しき\n",
            "平兼盛:忍ぶれど色に出でにけりわが恋はものや思ふと人の問ふまで\n",
            "壬生忠見:恋すてふわが名はまだき立ちにけり人知れずこそ思ひそめしか\n",
            "清原元輔:契りきなかたみに袖をしぼりつつ末の松山波越さじとは\n",
            "権中納言敦忠:逢ひ見ての後の心にくらぶれば昔はものを思はざりけり\n",
            "中納言朝忠:逢ふことの絶えてしなくはなかなかに人をも身をも恨みざらまし\n",
            "謙徳公:あはれともいふべき人は思ほえで身のいたずらになりぬべきかな\n",
            "曾禰好忠:由良の戸を渡る舟人かぢをたえゆくへも知らぬ恋の道かな\n",
            "恵慶法師:八重むぐら茂れる宿のさびしきに人こそ見えね秋は来にけり\n",
            "源重之:風をいたみ岩うつ波のおのれのみくだけてものを思ふころかな\n",
            "大中臣能宣:御垣守衛士のたく火の夜は燃え昼は消えつつものをこそ思へ\n",
            "藤原義孝:君がため惜しからざりし命さへ長くもがなと思ひけるかな\n",
            "藤原実方朝臣:かくとだにえやはいぶきのさしも草さしも知らじな燃ゆる思ひを\n",
            "藤原道信朝臣:明けぬれば暮るるものとは知りながらなほ恨めしき朝ぼらけかな\n",
            "右大将道綱母:嘆きつつひとり寝る夜の明くる間はいかに久しきものとかは知る\n",
            "儀同三司母:忘れじの行く末まではかたければ今日をかぎりの命ともがな\n",
            "大納言公任:滝の音は絶えて久しくなりぬれど名こそ流れてなほ聞こえけれ\n",
            "和泉式部:あらざらむこの世のほかの思ひ出に今ひとたびの逢ふこともがな\n",
            "紫式部:めぐり逢ひて見しやそれとも分かぬ間に雲隠れにし夜半の月かな\n",
            "大弐三位:有馬山猪名の笹原風吹けばいでそよ人を忘れやはする\n",
            "赤染衛門:やすらはで寝なましものを小夜更けてかたぶくまでの月を見しかな\n",
            "小式部内侍:大江山いく野の道の遠ければまだふみも見ず天の橋立\n",
            "伊勢大輔:いにしへの奈良の都の八重桜けふ九重に匂ひぬるかな\n",
            "清少納言:夜をこめて鳥のそら音ははかるともよに逢坂の関はゆるさじ\n",
            "左京大夫道雅:今はただ思ひ絶えなむとばかりを人づてならでいふよしもがな\n",
            "権中納言定頼:朝ぼらけ宇治の川霧たえだえにあらはれわたる瀬々の網代木\n",
            "相模:恨みわび干さぬ袖だにあるものを恋に朽ちなむ名こそ惜しけれ\n",
            "前大僧正行尊:もろともにあはれと思え山桜花よりほかに知る人もなし\n",
            "周防内侍:春の夜の夢ばかりなる手枕にかひなく立たむ名こそ惜しけれ\n",
            "三条院:心にもあらで憂き夜にながらへば恋しかるべき夜半の月かな\n",
            "能因法師:嵐ふく三室の山のもみぢ葉は竜田の川の錦なりけり\n",
            "良暹法師:寂しさに宿を立ち出でてながむればいづこも同じ秋の夕暮れ\n",
            "大納言経信:夕されば門田の稲葉おとづれて葦のまろやに秋風ぞ吹く\n",
            "祐子内親王家紀伊:音に聞く高師の浜のあだ波はかけじや袖のぬれもこそすれ\n",
            "権中納言匡房:高砂の尾の上の桜咲きにけり外山の霞立たずもあらなむ\n",
            "源俊頼朝臣:憂かりける人を初瀬の山おろしよはげしかれとは祈らぬものを\n",
            "藤原基俊:契りおきしさせもが露を命にてあはれ今年の秋もいぬめり\n",
            "法性寺入道前関白太政大臣:わたの原漕ぎ出でて見ればひさかたの雲居にまがふ沖つ白波\n",
            "崇徳院:瀬をはやみ岩にせかるる滝川のわれても末に逢はむとぞ思ふ\n",
            "源兼昌:淡路島通ふ千鳥の鳴く声にいく夜寝覚めぬ須磨の関守\n",
            "左京大夫顕輔:秋風にたなびく雲のたえ間よりもれ出づる月の影のさやけさ\n",
            "待賢門院堀河:ながからむ心も知らず黒髪の乱れてけさはものをこそ思へ\n",
            "後徳大寺左大臣:ほととぎす鳴きつる方をながむればただ有明の月ぞ残れる\n",
            "道因法師:思ひわびさても命はあるものを憂きに堪へぬは涙なりけり\n",
            "皇太后宮大夫俊成:世の中よ道こそなけれ思ひ入る山の奥にも鹿ぞ鳴くなる\n",
            "藤原清輔朝臣:ながらへばまたこのごろやしのばれむ憂しと見し世ぞ今は恋しき\n",
            "俊恵法師:夜もすがらもの思ふころは明けやらでねやのひまさへつれなかりけり\n",
            "西行法師:嘆けとて月やはものを思はするかこち顔なるわが涙かな\n",
            "寂蓮法師:村雨の露もまだ干ぬまきの葉に霧立ちのぼる秋の夕暮\n",
            "皇嘉門院別当:難波江の葦のかりねのひとよゆゑ身をつくしてや恋ひわたるべき\n",
            "式子内親王:玉の緒よ絶えなば絶えねながらへば忍ぶることの弱りもぞする\n",
            "殷富門院大輔:見せばやな雄島の海人の袖だにも濡れにぞ濡れし色は変はらず\n",
            "後京極摂政前太政大臣:きりぎりす鳴くや霜夜のさむしろに衣かたしきひとりかも寝む\n",
            "二条院讃岐:わが袖は潮干に見えぬ沖の石の人こそ知らねかわく間もなし\n",
            "鎌倉右大臣:世の中は常にもがもな渚漕ぐ海人の小舟の綱手かなしも\n",
            "参議雅経:み吉野の山の秋風小夜更けてふるさと寒く衣うつなり\n",
            "前大僧正慈円:おほけなく憂き世の民におほふかなわが立つ杣にすみ染の袖\n",
            "入道前太政大臣:花さそふ嵐の庭の雪ならでふりゆくものはわが身なりけり\n",
            "権中納言定家:来ぬ人を松帆の浦の夕なぎに焼くや藻塩の身もこがれつつ\n",
            "従二位家隆:風そよぐ楢の小川の夕暮はみそぎぞ夏のしるしなりける\n",
            "後鳥羽院:人もをし人もうらめしあじきなく世を思ふゆゑにもの思ふ身は\n",
            "順徳院:百敷や古き軒端のしのぶにもなほあまりある昔なりけり\n"
          ]
        }
      ]
    }
  ]
}